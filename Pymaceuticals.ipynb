{
 "cells": [
  {
   "cell_type": "code",
   "execution_count": 5,
   "metadata": {},
   "outputs": [],
   "source": [
    "# Dependencies and Setup\n",
    "%matplotlib inline\n",
    "\n",
    "import matplotlib.pyplot as plt\n",
    "import numpy as np\n",
    "import pandas as pd\n",
    "from scipy import stats\n",
    "\n",
    "# Hide warning messages in notebook\n",
    "import warnings\n",
    "warnings.filterwarnings('ignore')\n",
    "\n"
   ]
  },
  {
   "cell_type": "code",
   "execution_count": 6,
   "metadata": {},
   "outputs": [],
   "source": [
    "\n",
    "# Files to Load \n",
    "mt_df = pd.read_csv(\"data/mouse_drug_data.csv\")\n",
    "ct_df = pd.read_csv(\"data/clinicaltrial_data.csv\")"
   ]
  },
  {
   "cell_type": "code",
   "execution_count": 7,
   "metadata": {},
   "outputs": [
    {
     "data": {
      "text/html": "<div>\n<style scoped>\n    .dataframe tbody tr th:only-of-type {\n        vertical-align: middle;\n    }\n\n    .dataframe tbody tr th {\n        vertical-align: top;\n    }\n\n    .dataframe thead th {\n        text-align: right;\n    }\n</style>\n<table border=\"1\" class=\"dataframe\">\n  <thead>\n    <tr style=\"text-align: right;\">\n      <th></th>\n      <th>Mouse ID</th>\n      <th>Timepoint</th>\n      <th>Tumor Volume (mm3)</th>\n      <th>Metastatic Sites</th>\n    </tr>\n  </thead>\n  <tbody>\n    <tr>\n      <th>0</th>\n      <td>b128</td>\n      <td>0</td>\n      <td>45.0</td>\n      <td>0</td>\n    </tr>\n    <tr>\n      <th>1</th>\n      <td>f932</td>\n      <td>0</td>\n      <td>45.0</td>\n      <td>0</td>\n    </tr>\n    <tr>\n      <th>2</th>\n      <td>g107</td>\n      <td>0</td>\n      <td>45.0</td>\n      <td>0</td>\n    </tr>\n    <tr>\n      <th>3</th>\n      <td>a457</td>\n      <td>0</td>\n      <td>45.0</td>\n      <td>0</td>\n    </tr>\n    <tr>\n      <th>4</th>\n      <td>c819</td>\n      <td>0</td>\n      <td>45.0</td>\n      <td>0</td>\n    </tr>\n    <tr>\n      <th>...</th>\n      <td>...</td>\n      <td>...</td>\n      <td>...</td>\n      <td>...</td>\n    </tr>\n    <tr>\n      <th>95</th>\n      <td>k862</td>\n      <td>0</td>\n      <td>45.0</td>\n      <td>0</td>\n    </tr>\n    <tr>\n      <th>96</th>\n      <td>g867</td>\n      <td>0</td>\n      <td>45.0</td>\n      <td>0</td>\n    </tr>\n    <tr>\n      <th>97</th>\n      <td>s619</td>\n      <td>0</td>\n      <td>45.0</td>\n      <td>0</td>\n    </tr>\n    <tr>\n      <th>98</th>\n      <td>w697</td>\n      <td>0</td>\n      <td>45.0</td>\n      <td>0</td>\n    </tr>\n    <tr>\n      <th>99</th>\n      <td>j984</td>\n      <td>0</td>\n      <td>45.0</td>\n      <td>0</td>\n    </tr>\n  </tbody>\n</table>\n<p>100 rows × 4 columns</p>\n</div>",
      "text/plain": "   Mouse ID  Timepoint  Tumor Volume (mm3)  Metastatic Sites\n0      b128          0                45.0                 0\n1      f932          0                45.0                 0\n2      g107          0                45.0                 0\n3      a457          0                45.0                 0\n4      c819          0                45.0                 0\n..      ...        ...                 ...               ...\n95     k862          0                45.0                 0\n96     g867          0                45.0                 0\n97     s619          0                45.0                 0\n98     w697          0                45.0                 0\n99     j984          0                45.0                 0\n\n[100 rows x 4 columns]"
     },
     "execution_count": 7,
     "metadata": {},
     "output_type": "execute_result"
    }
   ],
   "source": [
    "# Read the Mouse and Drug Data and the Clinical Trial Data\n",
    "mt_df.head(100)\n",
    "ct_df.head(100)\n"
   ]
  },
  {
   "cell_type": "code",
   "execution_count": 8,
   "metadata": {},
   "outputs": [
    {
     "data": {
      "text/html": "<div>\n<style scoped>\n    .dataframe tbody tr th:only-of-type {\n        vertical-align: middle;\n    }\n\n    .dataframe tbody tr th {\n        vertical-align: top;\n    }\n\n    .dataframe thead th {\n        text-align: right;\n    }\n</style>\n<table border=\"1\" class=\"dataframe\">\n  <thead>\n    <tr style=\"text-align: right;\">\n      <th></th>\n      <th>Mouse ID</th>\n      <th>Timepoint</th>\n      <th>Tumor Volume (mm3)</th>\n      <th>Metastatic Sites</th>\n      <th>Drug</th>\n    </tr>\n  </thead>\n  <tbody>\n    <tr>\n      <th>0</th>\n      <td>b128</td>\n      <td>0</td>\n      <td>45.0</td>\n      <td>0</td>\n      <td>Capomulin</td>\n    </tr>\n    <tr>\n      <th>1</th>\n      <td>f932</td>\n      <td>0</td>\n      <td>45.0</td>\n      <td>0</td>\n      <td>Ketapril</td>\n    </tr>\n    <tr>\n      <th>2</th>\n      <td>g107</td>\n      <td>0</td>\n      <td>45.0</td>\n      <td>0</td>\n      <td>Ketapril</td>\n    </tr>\n    <tr>\n      <th>3</th>\n      <td>a457</td>\n      <td>0</td>\n      <td>45.0</td>\n      <td>0</td>\n      <td>Ketapril</td>\n    </tr>\n    <tr>\n      <th>4</th>\n      <td>c819</td>\n      <td>0</td>\n      <td>45.0</td>\n      <td>0</td>\n      <td>Ketapril</td>\n    </tr>\n  </tbody>\n</table>\n</div>",
      "text/plain": "  Mouse ID  Timepoint  Tumor Volume (mm3)  Metastatic Sites       Drug\n0     b128          0                45.0                 0  Capomulin\n1     f932          0                45.0                 0   Ketapril\n2     g107          0                45.0                 0   Ketapril\n3     a457          0                45.0                 0   Ketapril\n4     c819          0                45.0                 0   Ketapril"
     },
     "execution_count": 8,
     "metadata": {},
     "output_type": "execute_result"
    }
   ],
   "source": [
    "# Combine the data into a single dataset\n",
    "df = pd.merge(ct_df, mt_df, on='Mouse ID', how='left' )\n",
    "df.head()"
   ]
  },
  {
   "cell_type": "code",
   "execution_count": 9,
   "metadata": {},
   "outputs": [
    {
     "data": {
      "text/html": "<div>\n<style scoped>\n    .dataframe tbody tr th:only-of-type {\n        vertical-align: middle;\n    }\n\n    .dataframe tbody tr th {\n        vertical-align: top;\n    }\n\n    .dataframe thead th {\n        text-align: right;\n    }\n</style>\n<table border=\"1\" class=\"dataframe\">\n  <thead>\n    <tr style=\"text-align: right;\">\n      <th></th>\n      <th>Mouse ID</th>\n      <th>Timepoint</th>\n      <th>Tumor Volume (mm3)</th>\n      <th>Metastatic Sites</th>\n      <th>Drug</th>\n    </tr>\n  </thead>\n  <tbody>\n    <tr>\n      <th>0</th>\n      <td>b128</td>\n      <td>0</td>\n      <td>45.0</td>\n      <td>0</td>\n      <td>Capomulin</td>\n    </tr>\n    <tr>\n      <th>1</th>\n      <td>f932</td>\n      <td>0</td>\n      <td>45.0</td>\n      <td>0</td>\n      <td>Ketapril</td>\n    </tr>\n    <tr>\n      <th>2</th>\n      <td>g107</td>\n      <td>0</td>\n      <td>45.0</td>\n      <td>0</td>\n      <td>Ketapril</td>\n    </tr>\n    <tr>\n      <th>3</th>\n      <td>a457</td>\n      <td>0</td>\n      <td>45.0</td>\n      <td>0</td>\n      <td>Ketapril</td>\n    </tr>\n    <tr>\n      <th>4</th>\n      <td>c819</td>\n      <td>0</td>\n      <td>45.0</td>\n      <td>0</td>\n      <td>Ketapril</td>\n    </tr>\n  </tbody>\n</table>\n</div>",
      "text/plain": "  Mouse ID  Timepoint  Tumor Volume (mm3)  Metastatic Sites       Drug\n0     b128          0                45.0                 0  Capomulin\n1     f932          0                45.0                 0   Ketapril\n2     g107          0                45.0                 0   Ketapril\n3     a457          0                45.0                 0   Ketapril\n4     c819          0                45.0                 0   Ketapril"
     },
     "execution_count": 9,
     "metadata": {},
     "output_type": "execute_result"
    }
   ],
   "source": [
    "# Display the data table for preview\n",
    "df.head()"
   ]
  },
  {
   "cell_type": "markdown",
   "execution_count": null,
   "metadata": {},
   "outputs": [],
   "source": [
    "## Tumor Response to Treatment"
   ]
  },
  {
   "cell_type": "code",
   "execution_count": 10,
   "metadata": {},
   "outputs": [
    {
     "data": {
      "text/html": "<div>\n<style scoped>\n    .dataframe tbody tr th:only-of-type {\n        vertical-align: middle;\n    }\n\n    .dataframe tbody tr th {\n        vertical-align: top;\n    }\n\n    .dataframe thead th {\n        text-align: right;\n    }\n</style>\n<table border=\"1\" class=\"dataframe\">\n  <thead>\n    <tr style=\"text-align: right;\">\n      <th></th>\n      <th>Drug</th>\n      <th>Timepoint</th>\n      <th>Tumor Volume (mm3)</th>\n    </tr>\n  </thead>\n  <tbody>\n    <tr>\n      <th>0</th>\n      <td>Capomulin</td>\n      <td>0</td>\n      <td>45.000000</td>\n    </tr>\n    <tr>\n      <th>1</th>\n      <td>Capomulin</td>\n      <td>5</td>\n      <td>44.266086</td>\n    </tr>\n    <tr>\n      <th>2</th>\n      <td>Capomulin</td>\n      <td>10</td>\n      <td>43.084291</td>\n    </tr>\n    <tr>\n      <th>3</th>\n      <td>Capomulin</td>\n      <td>15</td>\n      <td>42.064317</td>\n    </tr>\n    <tr>\n      <th>4</th>\n      <td>Capomulin</td>\n      <td>20</td>\n      <td>40.716325</td>\n    </tr>\n  </tbody>\n</table>\n</div>",
      "text/plain": "        Drug  Timepoint  Tumor Volume (mm3)\n0  Capomulin          0           45.000000\n1  Capomulin          5           44.266086\n2  Capomulin         10           43.084291\n3  Capomulin         15           42.064317\n4  Capomulin         20           40.716325"
     },
     "execution_count": 10,
     "metadata": {},
     "output_type": "execute_result"
    }
   ],
   "source": [
    "# Store the Mean Tumor Volume Data Grouped by Drug and Timepoint \n",
    "drug_time = df.groupby(['Drug', 'Timepoint'], as_index=False)\n",
    "TV =  drug_time['Tumor Volume (mm3)'].mean()\n",
    "mtv_df = pd.DataFrame(data=TV)\n",
    "mtv_df.head()"
   ]
  },
  {
   "cell_type": "code",
   "execution_count": 11,
   "metadata": {},
   "outputs": [
    {
     "data": {
      "text/html": "<div>\n<style scoped>\n    .dataframe tbody tr th:only-of-type {\n        vertical-align: middle;\n    }\n\n    .dataframe tbody tr th {\n        vertical-align: top;\n    }\n\n    .dataframe thead th {\n        text-align: right;\n    }\n</style>\n<table border=\"1\" class=\"dataframe\">\n  <thead>\n    <tr style=\"text-align: right;\">\n      <th></th>\n      <th>Drug</th>\n      <th>Timepoint</th>\n      <th>Tumor Volume (mm3)</th>\n    </tr>\n  </thead>\n  <tbody>\n    <tr>\n      <th>0</th>\n      <td>Capomulin</td>\n      <td>0</td>\n      <td>0.000000</td>\n    </tr>\n    <tr>\n      <th>1</th>\n      <td>Capomulin</td>\n      <td>5</td>\n      <td>0.448593</td>\n    </tr>\n    <tr>\n      <th>2</th>\n      <td>Capomulin</td>\n      <td>10</td>\n      <td>0.702684</td>\n    </tr>\n    <tr>\n      <th>3</th>\n      <td>Capomulin</td>\n      <td>15</td>\n      <td>0.838617</td>\n    </tr>\n    <tr>\n      <th>4</th>\n      <td>Capomulin</td>\n      <td>20</td>\n      <td>0.909731</td>\n    </tr>\n  </tbody>\n</table>\n</div>",
      "text/plain": "        Drug  Timepoint  Tumor Volume (mm3)\n0  Capomulin          0            0.000000\n1  Capomulin          5            0.448593\n2  Capomulin         10            0.702684\n3  Capomulin         15            0.838617\n4  Capomulin         20            0.909731"
     },
     "execution_count": 11,
     "metadata": {},
     "output_type": "execute_result"
    }
   ],
   "source": [
    "# Store the Standard Error of Tumor Volumes Grouped by Drug and Timepoint\n",
    "sem_mtv = df.groupby(['Drug', 'Timepoint', ]).sem()\n",
    "# Convert to DataFrame\n",
    "sem_df = pd.DataFrame(sem_mtv).reset_index()\n",
    "sem_df.drop(['Metastatic Sites', 'Mouse ID'], axis = 1, inplace = True)\n",
    "# Preview DataFrame\n",
    "sem_df.head()\n"
   ]
  },
  {
   "cell_type": "code",
   "execution_count": 12,
   "metadata": {},
   "outputs": [
    {
     "data": {
      "text/html": "<div>\n<style scoped>\n    .dataframe tbody tr th:only-of-type {\n        vertical-align: middle;\n    }\n\n    .dataframe tbody tr th {\n        vertical-align: top;\n    }\n\n    .dataframe thead th {\n        text-align: right;\n    }\n</style>\n<table border=\"1\" class=\"dataframe\">\n  <thead>\n    <tr style=\"text-align: right;\">\n      <th>Drug</th>\n      <th>Capomulin</th>\n      <th>Ceftamin</th>\n      <th>Infubinol</th>\n      <th>Ketapril</th>\n      <th>Naftisol</th>\n      <th>Placebo</th>\n      <th>Propriva</th>\n      <th>Ramicane</th>\n      <th>Stelasyn</th>\n      <th>Zoniferol</th>\n    </tr>\n    <tr>\n      <th>Timepoint</th>\n      <th></th>\n      <th></th>\n      <th></th>\n      <th></th>\n      <th></th>\n      <th></th>\n      <th></th>\n      <th></th>\n      <th></th>\n      <th></th>\n    </tr>\n  </thead>\n  <tbody>\n    <tr>\n      <th>0</th>\n      <td>45.000000</td>\n      <td>45.000000</td>\n      <td>45.000000</td>\n      <td>45.000000</td>\n      <td>45.000000</td>\n      <td>45.000000</td>\n      <td>45.000000</td>\n      <td>45.000000</td>\n      <td>45.000000</td>\n      <td>45.000000</td>\n    </tr>\n    <tr>\n      <th>5</th>\n      <td>44.266086</td>\n      <td>46.503051</td>\n      <td>47.062001</td>\n      <td>47.389175</td>\n      <td>46.796098</td>\n      <td>47.125589</td>\n      <td>47.248967</td>\n      <td>43.944859</td>\n      <td>47.527452</td>\n      <td>46.851818</td>\n    </tr>\n    <tr>\n      <th>10</th>\n      <td>43.084291</td>\n      <td>48.285125</td>\n      <td>49.403909</td>\n      <td>49.582269</td>\n      <td>48.694210</td>\n      <td>49.423329</td>\n      <td>49.101541</td>\n      <td>42.531957</td>\n      <td>49.463844</td>\n      <td>48.689881</td>\n    </tr>\n    <tr>\n      <th>15</th>\n      <td>42.064317</td>\n      <td>50.094055</td>\n      <td>51.296397</td>\n      <td>52.399974</td>\n      <td>50.933018</td>\n      <td>51.359742</td>\n      <td>51.067318</td>\n      <td>41.495061</td>\n      <td>51.529409</td>\n      <td>50.779059</td>\n    </tr>\n    <tr>\n      <th>20</th>\n      <td>40.716325</td>\n      <td>52.157049</td>\n      <td>53.197691</td>\n      <td>54.920935</td>\n      <td>53.644087</td>\n      <td>54.364417</td>\n      <td>53.346737</td>\n      <td>40.238325</td>\n      <td>54.067395</td>\n      <td>53.170334</td>\n    </tr>\n  </tbody>\n</table>\n</div>",
      "text/plain": "Drug       Capomulin   Ceftamin  Infubinol   Ketapril   Naftisol    Placebo  \\\nTimepoint                                                                     \n0          45.000000  45.000000  45.000000  45.000000  45.000000  45.000000   \n5          44.266086  46.503051  47.062001  47.389175  46.796098  47.125589   \n10         43.084291  48.285125  49.403909  49.582269  48.694210  49.423329   \n15         42.064317  50.094055  51.296397  52.399974  50.933018  51.359742   \n20         40.716325  52.157049  53.197691  54.920935  53.644087  54.364417   \n\nDrug        Propriva   Ramicane   Stelasyn  Zoniferol  \nTimepoint                                              \n0          45.000000  45.000000  45.000000  45.000000  \n5          47.248967  43.944859  47.527452  46.851818  \n10         49.101541  42.531957  49.463844  48.689881  \n15         51.067318  41.495061  51.529409  50.779059  \n20         53.346737  40.238325  54.067395  53.170334  "
     },
     "execution_count": 12,
     "metadata": {},
     "output_type": "execute_result"
    }
   ],
   "source": [
    "# Minor Data Munging to Re-Format the Data Frames\n",
    "pivot_mtv = mtv_df.pivot(\"Timepoint\", \"Drug\", \"Tumor Volume (mm3)\")\n",
    "# Preview that Reformatting worked\n",
    "pivot_mtv.head()"
   ]
  },
  {
   "cell_type": "code",
   "execution_count": 13,
   "metadata": {},
   "outputs": [
    {
     "ename": "NameError",
     "evalue": "name 'mean_tumor_size_timepoint_by_drug' is not defined",
     "output_type": "error",
     "traceback": [
      "\u001b[1;31m---------------------------------------------------------------------------\u001b[0m",
      "\u001b[1;31mNameError\u001b[0m                                 Traceback (most recent call last)",
      "\u001b[1;32m<ipython-input-13-2d7eeba85a22>\u001b[0m in \u001b[0;36m<module>\u001b[1;34m\u001b[0m\n\u001b[0;32m      1\u001b[0m \u001b[1;31m# Generate the Plot (with Error Bars)\u001b[0m\u001b[1;33m\u001b[0m\u001b[1;33m\u001b[0m\u001b[1;33m\u001b[0m\u001b[0m\n\u001b[1;32m----> 2\u001b[1;33m \u001b[0mx_axis\u001b[0m\u001b[1;33m=\u001b[0m\u001b[0mlist\u001b[0m\u001b[1;33m(\u001b[0m\u001b[0mmean_tumor_size_timepoint_by_drug\u001b[0m\u001b[1;33m.\u001b[0m\u001b[0mindex\u001b[0m\u001b[1;33m)\u001b[0m\u001b[1;33m\u001b[0m\u001b[1;33m\u001b[0m\u001b[0m\n\u001b[0m\u001b[0;32m      3\u001b[0m \u001b[0mcapomulin_tumor_resp\u001b[0m\u001b[1;33m=\u001b[0m\u001b[0mplt\u001b[0m\u001b[1;33m.\u001b[0m\u001b[0merrorbar\u001b[0m\u001b[1;33m(\u001b[0m\u001b[0mx_axis\u001b[0m\u001b[1;33m,\u001b[0m \u001b[0mmean_tumor_size_timepoint_by_drug\u001b[0m\u001b[1;33m[\u001b[0m\u001b[1;34m\"Capomulin\"\u001b[0m\u001b[1;33m]\u001b[0m\u001b[1;33m,\u001b[0m \u001b[0myerr\u001b[0m\u001b[1;33m=\u001b[0m\u001b[0msem_tumor_size_timepoint_by_drug\u001b[0m\u001b[1;33m[\u001b[0m\u001b[1;34m\"Capomulin\"\u001b[0m\u001b[1;33m]\u001b[0m\u001b[1;33m,\u001b[0m \u001b[0mlinewidth\u001b[0m\u001b[1;33m=\u001b[0m\u001b[1;36m0.5\u001b[0m\u001b[1;33m,\u001b[0m \u001b[0mmarker\u001b[0m\u001b[1;33m=\u001b[0m\u001b[1;34m'o'\u001b[0m\u001b[1;33m,\u001b[0m\u001b[0mcolor\u001b[0m\u001b[1;33m=\u001b[0m\u001b[1;34m'red'\u001b[0m\u001b[1;33m,\u001b[0m\u001b[0mlabel\u001b[0m\u001b[1;33m=\u001b[0m\u001b[1;34m\"Capomulin\"\u001b[0m\u001b[1;33m)\u001b[0m\u001b[1;33m\u001b[0m\u001b[1;33m\u001b[0m\u001b[0m\n\u001b[0;32m      4\u001b[0m \u001b[0minfubinol_tumor_resp\u001b[0m\u001b[1;33m=\u001b[0m\u001b[0mplt\u001b[0m\u001b[1;33m.\u001b[0m\u001b[0merrorbar\u001b[0m\u001b[1;33m(\u001b[0m\u001b[0mx_axis\u001b[0m\u001b[1;33m,\u001b[0m \u001b[0mmean_tumor_size_timepoint_by_drug\u001b[0m\u001b[1;33m[\u001b[0m\u001b[1;34m\"Infubinol\"\u001b[0m\u001b[1;33m]\u001b[0m\u001b[1;33m,\u001b[0m \u001b[0myerr\u001b[0m\u001b[1;33m=\u001b[0m\u001b[0msem_tumor_size_timepoint_by_drug\u001b[0m\u001b[1;33m[\u001b[0m\u001b[1;34m\"Infubinol\"\u001b[0m\u001b[1;33m]\u001b[0m\u001b[1;33m,\u001b[0m \u001b[0mlinewidth\u001b[0m\u001b[1;33m=\u001b[0m\u001b[1;36m0.5\u001b[0m\u001b[1;33m,\u001b[0m \u001b[0mmarker\u001b[0m\u001b[1;33m=\u001b[0m\u001b[1;34m'^'\u001b[0m\u001b[1;33m,\u001b[0m\u001b[0mcolor\u001b[0m\u001b[1;33m=\u001b[0m\u001b[1;34m'blue'\u001b[0m\u001b[1;33m,\u001b[0m\u001b[0mlabel\u001b[0m\u001b[1;33m=\u001b[0m\u001b[1;34m\"Infubinol\"\u001b[0m\u001b[1;33m)\u001b[0m\u001b[1;33m\u001b[0m\u001b[1;33m\u001b[0m\u001b[0m\n\u001b[0;32m      5\u001b[0m \u001b[0mketapril_tumor_resp\u001b[0m\u001b[1;33m=\u001b[0m\u001b[0mplt\u001b[0m\u001b[1;33m.\u001b[0m\u001b[0merrorbar\u001b[0m\u001b[1;33m(\u001b[0m\u001b[0mx_axis\u001b[0m\u001b[1;33m,\u001b[0m \u001b[0mmean_tumor_size_timepoint_by_drug\u001b[0m\u001b[1;33m[\u001b[0m\u001b[1;34m\"Ketapril\"\u001b[0m\u001b[1;33m]\u001b[0m\u001b[1;33m,\u001b[0m \u001b[0myerr\u001b[0m\u001b[1;33m=\u001b[0m\u001b[0msem_tumor_size_timepoint_by_drug\u001b[0m\u001b[1;33m[\u001b[0m\u001b[1;34m\"Ketapril\"\u001b[0m\u001b[1;33m]\u001b[0m\u001b[1;33m,\u001b[0m \u001b[0mlinewidth\u001b[0m\u001b[1;33m=\u001b[0m\u001b[1;36m0.5\u001b[0m\u001b[1;33m,\u001b[0m \u001b[0mmarker\u001b[0m\u001b[1;33m=\u001b[0m\u001b[1;34m's'\u001b[0m\u001b[1;33m,\u001b[0m \u001b[0mcolor\u001b[0m\u001b[1;33m=\u001b[0m\u001b[1;34m'green'\u001b[0m\u001b[1;33m,\u001b[0m \u001b[0mlabel\u001b[0m\u001b[1;33m=\u001b[0m\u001b[1;34m\"Ketapril\"\u001b[0m\u001b[1;33m)\u001b[0m\u001b[1;33m\u001b[0m\u001b[1;33m\u001b[0m\u001b[0m\n",
      "\u001b[1;31mNameError\u001b[0m: name 'mean_tumor_size_timepoint_by_drug' is not defined"
     ]
    }
   ],
   "source": [
    "# Generate the Plot (with Error Bars)\n",
    "x_axis=list(mean_tumor_size_timepoint_by_drug.index)\n",
    "capomulin_tumor_resp=plt.errorbar(x_axis, mean_tumor_size_timepoint_by_drug[\"Capomulin\"], yerr=sem_tumor_size_timepoint_by_drug[\"Capomulin\"], linewidth=0.5, marker='o',color='red',label=\"Capomulin\")\n",
    "infubinol_tumor_resp=plt.errorbar(x_axis, mean_tumor_size_timepoint_by_drug[\"Infubinol\"], yerr=sem_tumor_size_timepoint_by_drug[\"Infubinol\"], linewidth=0.5, marker='^',color='blue',label=\"Infubinol\")\n",
    "ketapril_tumor_resp=plt.errorbar(x_axis, mean_tumor_size_timepoint_by_drug[\"Ketapril\"], yerr=sem_tumor_size_timepoint_by_drug[\"Ketapril\"], linewidth=0.5, marker='s', color='green', label=\"Ketapril\")\n",
    "placebo_tumor_resp=plt.errorbar(x_axis, mean_tumor_size_timepoint_by_drug[\"Placebo\"], yerr=sem_tumor_size_timepoint_by_drug[\"Placebo\"], linewidth=0.5, marker='d', color='black', label=\"Placebo\")\n",
    "\n",
    "\n",
    "\n",
    "\n",
    "\n",
    "\n",
    "# Save the Figure\n",
    "\n"
   ]
  },
  {
   "cell_type": "code",
   "execution_count": null,
   "metadata": {},
   "outputs": [],
   "source": [
    "# Show the Figure\n",
    "plt.show()"
   ]
  },
  {
   "cell_type": "markdown",
   "execution_count": null,
   "metadata": {},
   "outputs": [],
   "source": [
    "![Tumor Response to Treatment](../Images/treatment.png)"
   ]
  },
  {
   "cell_type": "markdown",
   "execution_count": null,
   "metadata": {},
   "outputs": [],
   "source": [
    "## Metastatic Response to Treatment"
   ]
  },
  {
   "cell_type": "code",
   "execution_count": null,
   "metadata": {},
   "outputs": [],
   "source": [
    "# Store the Mean Met. Site Data Grouped by Drug and Timepoint \n",
    "\n",
    "# Convert to DataFrame\n",
    "\n",
    "# Preview DataFrame\n"
   ]
  },
  {
   "cell_type": "code",
   "execution_count": null,
   "metadata": {},
   "outputs": [],
   "source": []
  },
  {
   "cell_type": "code",
   "execution_count": null,
   "metadata": {},
   "outputs": [],
   "source": [
    "# Store the Standard Error associated with Met. Sites Grouped by Drug and Timepoint \n",
    "\n",
    "# Convert to DataFrame\n",
    "\n",
    "# Preview DataFrame\n"
   ]
  },
  {
   "cell_type": "code",
   "execution_count": null,
   "metadata": {},
   "outputs": [],
   "source": []
  },
  {
   "cell_type": "code",
   "execution_count": null,
   "metadata": {},
   "outputs": [],
   "source": [
    "# Minor Data Munging to Re-Format the Data Frames\n",
    "\n",
    "# Preview that Reformatting worked\n"
   ]
  },
  {
   "cell_type": "code",
   "execution_count": null,
   "metadata": {
    "scrolled": true
   },
   "outputs": [],
   "source": []
  },
  {
   "cell_type": "code",
   "execution_count": null,
   "metadata": {},
   "outputs": [],
   "source": [
    "# Generate the Plot (with Error Bars)\n",
    "\n",
    "# Save the Figure\n",
    "\n",
    "# Show the Figure\n"
   ]
  },
  {
   "cell_type": "markdown",
   "execution_count": null,
   "metadata": {},
   "outputs": [],
   "source": [
    "![Metastatic Spread During Treatment](../Images/spread.png)"
   ]
  },
  {
   "cell_type": "markdown",
   "execution_count": null,
   "metadata": {},
   "outputs": [],
   "source": [
    "## Survival Rates"
   ]
  },
  {
   "cell_type": "code",
   "execution_count": null,
   "metadata": {},
   "outputs": [],
   "source": [
    "# Store the Count of Mice Grouped by Drug and Timepoint (W can pass any metric)\n",
    "\n",
    "# Convert to DataFrame\n",
    "\n",
    "# Preview DataFrame\n"
   ]
  },
  {
   "cell_type": "code",
   "execution_count": null,
   "metadata": {},
   "outputs": [],
   "source": []
  },
  {
   "cell_type": "code",
   "execution_count": null,
   "metadata": {},
   "outputs": [],
   "source": [
    "# Minor Data Munging to Re-Format the Data Frames\n",
    "\n",
    "# Preview the Data Frame\n"
   ]
  },
  {
   "cell_type": "code",
   "execution_count": null,
   "metadata": {
    "scrolled": true
   },
   "outputs": [],
   "source": []
  },
  {
   "cell_type": "code",
   "execution_count": null,
   "metadata": {},
   "outputs": [],
   "source": [
    "# Generate the Plot (Accounting for percentages)\n",
    "\n",
    "# Save the Figure\n",
    "\n",
    "# Show the Figure\n",
    "plt.show()"
   ]
  },
  {
   "cell_type": "markdown",
   "execution_count": null,
   "metadata": {},
   "outputs": [],
   "source": [
    "![Metastatic Spread During Treatment](../Images/survival.png)"
   ]
  },
  {
   "cell_type": "markdown",
   "execution_count": null,
   "metadata": {},
   "outputs": [],
   "source": [
    "## Summary Bar Graph"
   ]
  },
  {
   "cell_type": "code",
   "execution_count": null,
   "metadata": {},
   "outputs": [],
   "source": [
    "# Calculate the percent changes for each drug\n",
    "\n",
    "# Display the data to confirm\n"
   ]
  },
  {
   "cell_type": "code",
   "execution_count": null,
   "metadata": {},
   "outputs": [],
   "source": []
  },
  {
   "cell_type": "code",
   "execution_count": null,
   "metadata": {},
   "outputs": [],
   "source": [
    "# Store all Relevant Percent Changes into a Tuple\n",
    "\n",
    "\n",
    "# Splice the data between passing and failing drugs\n",
    "\n",
    "\n",
    "# Orient widths. Add labels, tick marks, etc. \n",
    "\n",
    "\n",
    "# Use functions to label the percentages of changes\n",
    "\n",
    "\n",
    "# Call functions to implement the function calls\n",
    "\n",
    "\n",
    "# Save the Figure\n",
    "\n",
    "\n",
    "# Show the Figure\n",
    "fig.show()"
   ]
  },
  {
   "cell_type": "markdown",
   "execution_count": null,
   "metadata": {},
   "outputs": [],
   "source": [
    "![Metastatic Spread During Treatment](../Images/change.png)"
   ]
  },
  {
   "cell_type": "code",
   "execution_count": null,
   "metadata": {},
   "outputs": [],
   "source": []
  }
 ],
 "metadata": {
  "anaconda-cloud": {},
  "kernelspec": {
   "display_name": "Python 3",
   "language": "python",
   "name": "python3"
  },
  "language_info": {
   "codemirror_mode": {
    "name": "ipython",
    "version": 3
   },
   "file_extension": ".py",
   "mimetype": "text/x-python",
   "name": "python",
   "nbconvert_exporter": "python",
   "pygments_lexer": "ipython3",
   "version": "3.7.5-final"
  }
 },
 "nbformat": 4,
 "nbformat_minor": 4
}